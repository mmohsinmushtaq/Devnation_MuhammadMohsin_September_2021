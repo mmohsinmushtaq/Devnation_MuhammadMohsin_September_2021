{
 "cells": [
  {
   "cell_type": "markdown",
   "metadata": {},
   "source": [
    "# DevNation \n",
    "## Task 1\n",
    "\n",
    "### 9/9/2021"
   ]
  },
  {
   "cell_type": "markdown",
   "metadata": {},
   "source": [
    "Q1. Write a function get_date(int) that takes a param number_of_days and if the number is \n",
    "odd return (current_date + number_of_days) else return (current_date - number_of_days)\n"
   ]
  },
  {
   "cell_type": "code",
   "execution_count": 5,
   "metadata": {},
   "outputs": [],
   "source": [
    "from datetime import date\n",
    "\n",
    "def get_date(no_of_days):\n",
    "    today=date.today()\n",
    "    x=today.strftime(\"%d\")\n",
    "    if no_of_days % 2 != 0:\n",
    "        \n",
    "        return int(x)+no_of_days\n",
    "    else:\n",
    "        return int(x)-no_of_days\n",
    "        \n"
   ]
  },
  {
   "cell_type": "code",
   "execution_count": 7,
   "metadata": {},
   "outputs": [
    {
     "name": "stdout",
     "output_type": "stream",
     "text": [
      "14\n"
     ]
    }
   ],
   "source": [
    "print(get_date(5))"
   ]
  },
  {
   "cell_type": "markdown",
   "metadata": {},
   "source": [
    "Q2. Write a function stringify using map that takes a list of strings and a function and \n",
    "converts each string into separate string\n",
    "\n",
    "Input =['devnation', 'data science', 'requires', 'dedication']\n",
    "\n",
    "Output =[[‘d’,’e’,’v’,’n’,’a’,’t’,’i’,’o’,’n’],[‘d’,’a’,’t’,’a’,’s’,’i’,’e’,’n’,’c’,’e’],\n",
    "[‘r’,’e’,’q’,’u’,’i’,’r’,’e’,’s’],[‘d’,’e’,’d’,’i’,’c’,’a’,’t’,’i’,’o’,’n’]]"
   ]
  },
  {
   "cell_type": "code",
   "execution_count": 10,
   "metadata": {},
   "outputs": [
    {
     "name": "stdout",
     "output_type": "stream",
     "text": [
      "[['d', 'e', 'v', 'n', 'a', 't', 'i', 'o', 'n'], ['d', 'a', 't', 'a', ' ', 's', 'c', 'i', 'e', 'n', 'c', 'e'], ['r', 'e', 'q', 'u', 'i', 'r', 'e', 's'], ['d', 'e', 'd', 'i', 'c', 'a', 't', 'i', 'o', 'n']]\n"
     ]
    }
   ],
   "source": [
    "def str_break(s):\n",
    "    lst=[]\n",
    "    for i in s:\n",
    "        lst.append(str(i))\n",
    "    return lst\n",
    "def stringify(lis):\n",
    "    return list(map(str_break,lis))\n",
    "    \n",
    "\n",
    "print(stringify(['devnation', 'data science', 'requires', 'dedication']))\n",
    "    "
   ]
  },
  {
   "cell_type": "markdown",
   "metadata": {},
   "source": [
    "Q3. Write a function string_case(list) using map that takes list of characters and return \n",
    "tuples of tuple with containing lower and upper case of that character’s list\n",
    "Final Output must contains unique tuples\n",
    "\n",
    "Sample = ['f', 'b', 'a',’a’]\n",
    "\n",
    "Result = ((‘F’,’F’),(‘B’,’b’),(‘A’,’a’))"
   ]
  },
  {
   "cell_type": "code",
   "execution_count": 22,
   "metadata": {},
   "outputs": [
    {
     "name": "stdout",
     "output_type": "stream",
     "text": [
      "(('F', 'f'), ('B', 'b'), ('A', 'a'))\n"
     ]
    }
   ],
   "source": [
    "def cvt(c):\n",
    "    return (c.upper(),c.lower())\n",
    "\n",
    "def Strin_case(lst):\n",
    "    x=list(map(cvt,lst))\n",
    "    new=[]\n",
    "    for i in x:\n",
    "        if i not in new:\n",
    "            new.append(i)\n",
    "            \n",
    "    return tuple(new)\n",
    "        \n",
    "\n",
    "print(Strin_case(['f', 'b', 'a','a']))\n",
    "            \n"
   ]
  },
  {
   "cell_type": "code",
   "execution_count": null,
   "metadata": {},
   "outputs": [],
   "source": []
  }
 ],
 "metadata": {
  "kernelspec": {
   "display_name": "Python 3",
   "language": "python",
   "name": "python3"
  },
  "language_info": {
   "codemirror_mode": {
    "name": "ipython",
    "version": 3
   },
   "file_extension": ".py",
   "mimetype": "text/x-python",
   "name": "python",
   "nbconvert_exporter": "python",
   "pygments_lexer": "ipython3",
   "version": "3.8.5"
  }
 },
 "nbformat": 4,
 "nbformat_minor": 4
}
